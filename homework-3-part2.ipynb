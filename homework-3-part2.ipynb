{
 "cells": [
  {
   "cell_type": "code",
   "execution_count": 1,
   "id": "f178ae16",
   "metadata": {},
   "outputs": [
    {
     "ename": "SyntaxError",
     "evalue": "invalid syntax (392521184.py, line 2)",
     "output_type": "error",
     "traceback": [
      "\u001b[0;36m  Cell \u001b[0;32mIn[1], line 2\u001b[0;36m\u001b[0m\n\u001b[0;31m    https://www.weatherapi.com/docs/\u001b[0m\n\u001b[0m          ^\u001b[0m\n\u001b[0;31mSyntaxError\u001b[0m\u001b[0;31m:\u001b[0m invalid syntax\n"
     ]
    }
   ],
   "source": [
    "# What is the URL to the documentation?\n",
    "# https://www.weatherapi.com/docs/"
   ]
  },
  {
   "cell_type": "code",
   "execution_count": 8,
   "id": "936d03e4",
   "metadata": {},
   "outputs": [
    {
     "name": "stdout",
     "output_type": "stream",
     "text": [
      "{'location': {'name': 'Jakarta', 'region': 'Jakarta Raya', 'country': 'Indonesia', 'lat': -6.21, 'lon': 106.85, 'tz_id': 'Asia/Jakarta', 'localtime_epoch': 1686666745, 'localtime': '2023-06-13 21:32'}, 'current': {'last_updated_epoch': 1686666600, 'last_updated': '2023-06-13 21:30', 'temp_c': 28.0, 'temp_f': 82.4, 'is_day': 0, 'condition': {'text': 'Partly cloudy', 'icon': '//cdn.weatherapi.com/weather/64x64/night/116.png', 'code': 1003}, 'wind_mph': 5.6, 'wind_kph': 9.0, 'wind_degree': 60, 'wind_dir': 'ENE', 'pressure_mb': 1011.0, 'pressure_in': 29.85, 'precip_mm': 0.0, 'precip_in': 0.0, 'humidity': 89, 'cloud': 50, 'feelslike_c': 31.5, 'feelslike_f': 88.7, 'vis_km': 7.0, 'vis_miles': 4.0, 'uv': 1.0, 'gust_mph': 11.9, 'gust_kph': 19.1}}\n",
      "dict_keys(['location', 'current'])\n"
     ]
    }
   ],
   "source": [
    "# Make a request for the current weather where you are born, or somewhere you've lived.\n",
    "import requests\n",
    "\n",
    "url = \"http://api.weatherapi.com/v1/current.json?key=313d4c18d2964b199af142703231306&q=Indonesia&aqi=no\"\n",
    "data = requests.get(url).json()\n",
    "print(data)\n",
    "print(data.keys())"
   ]
  },
  {
   "cell_type": "code",
   "execution_count": 6,
   "id": "a6d01fd4",
   "metadata": {},
   "outputs": [
    {
     "name": "stdout",
     "output_type": "stream",
     "text": [
      "Indonesia\n"
     ]
    }
   ],
   "source": [
    "# Print out the country this location is in.\n",
    "print(data['location']['country'])"
   ]
  },
  {
   "cell_type": "code",
   "execution_count": 12,
   "id": "d2d2b790",
   "metadata": {},
   "outputs": [
    {
     "name": "stdout",
     "output_type": "stream",
     "text": [
      "It feels 3.5 degrees celsius warmer.\n"
     ]
    }
   ],
   "source": [
    "# Print out the difference between the current temperature and how warm it feels. Use \"It feels ___ degrees colder\" or \"It feels ___ degrees warmer,\" not negative numbers.\n",
    "diff = data['current']['temp_c']-data['current']['feelslike_c']\n",
    "\n",
    "if diff>0:\n",
    "    print(\"It feels\", abs(diff), \"degrees celsius colder.\")\n",
    "elif diff<0:\n",
    "    print(\"It feels\", abs(diff), \"degrees celsius warmer.\")\n",
    "else:\n",
    "    print(\"It feels the same as the current temperature.\")"
   ]
  },
  {
   "cell_type": "code",
   "execution_count": 15,
   "id": "228eea33",
   "metadata": {},
   "outputs": [
    {
     "name": "stdout",
     "output_type": "stream",
     "text": [
      "{'location': {'name': 'London Heathrow Airport', 'region': 'London', 'country': 'United Kingdom', 'lat': 51.47, 'lon': -0.46, 'tz_id': 'Europe/London', 'localtime_epoch': 1686667041, 'localtime': '2023-06-13 15:37'}, 'current': {'last_updated_epoch': 1686666600, 'last_updated': '2023-06-13 15:30', 'temp_c': 27.0, 'temp_f': 80.6, 'is_day': 1, 'condition': {'text': 'Sunny', 'icon': '//cdn.weatherapi.com/weather/64x64/day/113.png', 'code': 1000}, 'wind_mph': 16.1, 'wind_kph': 25.9, 'wind_degree': 90, 'wind_dir': 'E', 'pressure_mb': 1014.0, 'pressure_in': 29.94, 'precip_mm': 0.0, 'precip_in': 0.0, 'humidity': 32, 'cloud': 0, 'feelslike_c': 26.4, 'feelslike_f': 79.6, 'vis_km': 10.0, 'vis_miles': 6.0, 'uv': 7.0, 'gust_mph': 16.8, 'gust_kph': 27.0}}\n",
      "dict_keys(['location', 'current'])\n",
      "The current temperature at Heathrow International Airport is 28.0 degrees celsius.\n"
     ]
    }
   ],
   "source": [
    "# What's the current temperature at Heathrow International Airport?\n",
    "url_ldn = \"https://api.weatherapi.com/v1/current.json?key=313d4c18d2964b199af142703231306&q=LHR&aqi=no\"\n",
    "data_ldn = requests.get(url_ldn).json()\n",
    "print(data_ldn)\n",
    "print(data_ldn.keys())\n",
    "\n",
    "print(\"The current temperature at Heathrow International Airport is\", data['current']['temp_c'], \"degrees celsius.\")"
   ]
  },
  {
   "cell_type": "code",
   "execution_count": null,
   "id": "ce8b7fea",
   "metadata": {},
   "outputs": [],
   "source": [
    "# What URL would I use to request a 3-day forecast at Heathrow?\n",
    "# http://api.weatherapi.com/v1/forecast.json?key=313d4c18d2964b199af142703231306&q=LHR&days=3&aqi=no&alerts=no"
   ]
  },
  {
   "cell_type": "code",
   "execution_count": 52,
   "id": "ed56b715",
   "metadata": {},
   "outputs": [
    {
     "name": "stdout",
     "output_type": "stream",
     "text": [
      "dict_keys(['location', 'current', 'forecast'])\n",
      "2023-06-13\n",
      "Here are the 3 dates I'm getting a forecast for:\n",
      "2023-06-13\n",
      "2023-06-14\n",
      "2023-06-15\n"
     ]
    }
   ],
   "source": [
    "# Print the date of each of the 3 days you're getting a forecast for.\n",
    "url_ldn2 = \"http://api.weatherapi.com/v1/forecast.json?key=313d4c18d2964b199af142703231306&q=LHR&days=3&aqi=no&alerts=no\"\n",
    "data_ldn2 = requests.get(url_ldn2).json()\n",
    "print(data_ldn2.keys())\n",
    "\n",
    "print(data_ldn2['forecast']['forecastday'][0]['date'])\n",
    "\n",
    "print(\"Here are the 3 dates I'm getting a forecast for:\")\n",
    "for day in data_ldn2['forecast']['forecastday']:\n",
    "    print(day['date'])"
   ]
  },
  {
   "cell_type": "code",
   "execution_count": 42,
   "id": "37bfbfad",
   "metadata": {},
   "outputs": [
    {
     "name": "stdout",
     "output_type": "stream",
     "text": [
      "26.2\n",
      "Here are the maximum temperature of each of the days:\n",
      "26.2 degC\n",
      "26.1 degC\n",
      "25.0 degC\n"
     ]
    }
   ],
   "source": [
    "# Print the maximum temperature of each of the days.\n",
    "print(data_ldn2['forecast']['forecastday'][0]['day']['maxtemp_c'])\n",
    "\n",
    "print(\"Here are the maximum temperature of each of the days:\")\n",
    "for day in data_ldn2['forecast']['forecastday']:\n",
    "    max_temp = day['day']['maxtemp_c']\n",
    "    print(max_temp, \"degC\")"
   ]
  },
  {
   "cell_type": "code",
   "execution_count": 55,
   "id": "3fd89dae",
   "metadata": {},
   "outputs": [
    {
     "name": "stdout",
     "output_type": "stream",
     "text": [
      "The day with the highest maximum temperature is:\n",
      "2023-06-13\n"
     ]
    }
   ],
   "source": [
    "# Print only the day with the highest maximum temperature.\n",
    "max_temp = float()\n",
    "\n",
    "print(\"The day with the highest maximum temperature is:\")\n",
    "for day in data_ldn2['forecast']['forecastday']:\n",
    "    current_max_temp = day['day']['maxtemp_c']\n",
    "    if current_max_temp > max_temp:\n",
    "        max_temp = current_max_temp\n",
    "        print(day['date'])"
   ]
  },
  {
   "cell_type": "code",
   "execution_count": null,
   "id": "68fa3c85",
   "metadata": {},
   "outputs": [],
   "source": []
  }
 ],
 "metadata": {
  "kernelspec": {
   "display_name": "Python 3 (ipykernel)",
   "language": "python",
   "name": "python3"
  },
  "language_info": {
   "codemirror_mode": {
    "name": "ipython",
    "version": 3
   },
   "file_extension": ".py",
   "mimetype": "text/x-python",
   "name": "python",
   "nbconvert_exporter": "python",
   "pygments_lexer": "ipython3",
   "version": "3.10.11"
  }
 },
 "nbformat": 4,
 "nbformat_minor": 5
}
