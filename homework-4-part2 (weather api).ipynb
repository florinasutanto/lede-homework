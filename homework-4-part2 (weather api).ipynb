{
 "cells": [
  {
   "cell_type": "markdown",
   "metadata": {},
   "source": [
    "# WeatherAPI (WeatherAPI, hiding API keys)\n",
    "\n",
    "Answer the following questions using [WeatherAPI](http://www.weatherapi.com/). It's a smaller assignment than the last weather one, and mostly serves to get you used to creating API urls and using `python-dotenv`.\n",
    "\n",
    "Hold `Shift` and hit `Enter` to run a cell, and use the `+` on the top left to add a new cell to a notebook. Be sure to take advantage of both the documentation and the API Explorer!\n",
    "\n",
    "## 0) Import any libraries you might need\n",
    "\n",
    "- *Tip: We're going to be downloading things from the internet, so we probably need `requests`.*\n",
    "- *Tip: Remember you only need to import requests once!*"
   ]
  },
  {
   "cell_type": "code",
   "execution_count": 55,
   "metadata": {},
   "outputs": [
    {
     "data": {
      "text/plain": [
       "True"
      ]
     },
     "execution_count": 55,
     "metadata": {},
     "output_type": "execute_result"
    }
   ],
   "source": [
    "import requests\n",
    "import json\n",
    "\n",
    "from dotenv import load_dotenv\n",
    "import os\n",
    "load_dotenv()"
   ]
  },
  {
   "cell_type": "code",
   "execution_count": null,
   "metadata": {},
   "outputs": [],
   "source": []
  },
  {
   "cell_type": "markdown",
   "metadata": {},
   "source": [
    "## 1) Use the `python-dotenv` package to import your WeatherAPI API key\n",
    "\n",
    "We're going to be posting this code on GitHub, so you'll want to hide your API keys! Take a look at [this video](https://www.youtube.com/watch?v=YdgIWTYQ69A) about how to hide API keys from public view while still using them. It involves creating a separate `.env` file (use either VS Code or create it using Jupyter) that includes your API key, then importing it with [python-dotenv](https://github.com/theskumar/python-dotenv).\n",
    "\n",
    "Save this as a variable called `API_KEY`."
   ]
  },
  {
   "cell_type": "code",
   "execution_count": 56,
   "metadata": {},
   "outputs": [],
   "source": [
    "api_weather = os.getenv(\"api_weather\")"
   ]
  },
  {
   "cell_type": "markdown",
   "metadata": {},
   "source": [
    "## 2) Print the URL for the current forecast in New York City\n",
    "\n",
    "This is really just a test to make sure you can still create a URL when the API key is read in as a variable."
   ]
  },
  {
   "cell_type": "code",
   "execution_count": 57,
   "metadata": {},
   "outputs": [
    {
     "name": "stdout",
     "output_type": "stream",
     "text": [
      "http://api.weatherapi.com/v1/current.json?key=313d4c18d2964b199af142703231306&q=nyc&aqi=no\n"
     ]
    }
   ],
   "source": [
    "url = f\"http://api.weatherapi.com/v1/current.json?key={api_weather}&q=nyc&aqi=no\"\n",
    "data = requests.get(url).json()\n",
    "print(url)"
   ]
  },
  {
   "cell_type": "markdown",
   "metadata": {
    "collapsed": true
   },
   "source": [
    "## 2) Compare the air quality for NYC and Toronto, Canada\n",
    "\n",
    "Using PM2.5 measurements, compare the air quality of NYC and Toronto, Canada. If NYC has a higher PM2.5 measurement than Toronto, print \"NYC is worse.\" If Toronto's is higher, print \"Toronto is worse.\"\n",
    "\n",
    "- *Hint: This NYC URL is based on the URL for the current weather of NYC, but is a tiny tiny bit different.*\n",
    "- *Hint: You'll need to add an additional option to the URL to include air quality data*\n",
    "- *Hint: You'll (probably) need multiple variables instead of just using `data` twice*"
   ]
  },
  {
   "cell_type": "code",
   "execution_count": 58,
   "metadata": {},
   "outputs": [],
   "source": [
    "url_nyc = f\"http://api.weatherapi.com/v1/current.json?key={api_weather}&q=nyc&aqi=yes\"\n",
    "url_toronto = f\"http://api.weatherapi.com/v1/current.json?key={api_weather}&q=toronto&aqi=yes\"\n",
    "\n",
    "data_nyc = requests.get(url_nyc).json()\n",
    "data_toronto = requests.get(url_toronto).json()"
   ]
  },
  {
   "cell_type": "code",
   "execution_count": 59,
   "metadata": {},
   "outputs": [
    {
     "name": "stdout",
     "output_type": "stream",
     "text": [
      "13.5\n",
      "7.5\n"
     ]
    }
   ],
   "source": [
    "nyc_aq = data_nyc['current']['air_quality']['pm2_5']\n",
    "toronto_aq = data_toronto['current']['air_quality']['pm2_5']\n",
    "\n",
    "print(nyc_aq)\n",
    "print(toronto_aq)"
   ]
  },
  {
   "cell_type": "code",
   "execution_count": 60,
   "metadata": {},
   "outputs": [
    {
     "name": "stdout",
     "output_type": "stream",
     "text": [
      "The air quality in NYC is worse\n"
     ]
    }
   ],
   "source": [
    "if nyc_aq > toronto_aq:\n",
    "    print(\"The air quality in NYC is worse\")\n",
    "elif toronto_aq > nyc_aq:\n",
    "    print(\"The air quality in Toronto is worse\")"
   ]
  },
  {
   "cell_type": "markdown",
   "metadata": {},
   "source": [
    "## 2) Print the time zones for both NYC and Toronto.\n",
    "\n",
    "If they have the same time, print \"it is (the time) in both cities.\" If not, print \"It is (nyc time) in NYC and (Toronto time) in Toronto.\"\n",
    "\n",
    "- *Hint: Both cities should have the same local time. If they don't, what's going on? It's a code issue!*\n",
    "- *Hint: f-strings are unwieldy here, I'd just use the comma version of `print`*"
   ]
  },
  {
   "cell_type": "code",
   "execution_count": 61,
   "metadata": {},
   "outputs": [
    {
     "name": "stdout",
     "output_type": "stream",
     "text": [
      "2023-06-14 18:24\n"
     ]
    }
   ],
   "source": [
    "print(data_nyc['location']['localtime'])"
   ]
  },
  {
   "cell_type": "code",
   "execution_count": 62,
   "metadata": {},
   "outputs": [
    {
     "name": "stdout",
     "output_type": "stream",
     "text": [
      "2023-06-14 18:24\n"
     ]
    }
   ],
   "source": [
    "print(data_toronto['location']['localtime'])"
   ]
  },
  {
   "cell_type": "code",
   "execution_count": 63,
   "metadata": {},
   "outputs": [
    {
     "name": "stdout",
     "output_type": "stream",
     "text": [
      "It is 2023-06-14 18:24 in both cities\n"
     ]
    }
   ],
   "source": [
    "nyc_time = data_nyc['location']['localtime']\n",
    "toronto_time = data_toronto['location']['localtime']\n",
    "\n",
    "if nyc_time == toronto_time:\n",
    "    print(f\"It is {nyc_time} in both cities\")\n",
    "else:\n",
    "    print(f\"It is {nyc_time} in NYC and {toronto_time} in Toronto\")"
   ]
  },
  {
   "cell_type": "markdown",
   "metadata": {},
   "source": [
    "## 3) Speaking of Canada, don't they have a London up there?\n",
    "\n",
    "Print out every city that is called \"London,\" along with the region and country it is in. Your output should look like:\n",
    "\n",
    "```\n",
    "There is a London in United Kingdom\n",
    "There is a London in Canada\n",
    "```\n",
    "\n",
    "Do **not** print out `Londonderry`, since it isn't actually a London.\n",
    "\n",
    "- *Hint: You'll need an `if` for that last part*"
   ]
  },
  {
   "cell_type": "code",
   "execution_count": 64,
   "metadata": {},
   "outputs": [
    {
     "name": "stdout",
     "output_type": "stream",
     "text": [
      "[\n",
      "    {\n",
      "        \"id\": 2801268,\n",
      "        \"name\": \"London\",\n",
      "        \"region\": \"City of London, Greater London\",\n",
      "        \"country\": \"United Kingdom\",\n",
      "        \"lat\": 51.52,\n",
      "        \"lon\": -0.11,\n",
      "        \"url\": \"london-city-of-london-greater-london-united-kingdom\"\n",
      "    },\n",
      "    {\n",
      "        \"id\": 315398,\n",
      "        \"name\": \"London\",\n",
      "        \"region\": \"Ontario\",\n",
      "        \"country\": \"Canada\",\n",
      "        \"lat\": 42.98,\n",
      "        \"lon\": -81.25,\n",
      "        \"url\": \"london-ontario-canada\"\n",
      "    },\n",
      "    {\n",
      "        \"id\": 2801275,\n",
      "        \"name\": \"Londonderry\",\n",
      "        \"region\": \"North Yorkshire\",\n",
      "        \"country\": \"United Kingdom\",\n",
      "        \"lat\": 54.28,\n",
      "        \"lon\": -1.53,\n",
      "        \"url\": \"londonderry-north-yorkshire-united-kingdom\"\n",
      "    }\n",
      "]\n"
     ]
    }
   ],
   "source": [
    "url_london = f\"https://api.weatherapi.com/v1/search.json?key={api_weather}&q=london\"\n",
    "data_london = requests.get(url_london).json()\n",
    "\n",
    "print(json.dumps(data_london, indent=4))"
   ]
  },
  {
   "cell_type": "code",
   "execution_count": 65,
   "metadata": {},
   "outputs": [
    {
     "name": "stdout",
     "output_type": "stream",
     "text": [
      "There is a London in United Kingdom\n",
      "There is a London in Canada\n"
     ]
    }
   ],
   "source": [
    "for city in data_london:\n",
    "    if city[\"name\"] == \"London\":\n",
    "        print(f\"There is a London in {city['country']}\")"
   ]
  },
  {
   "cell_type": "code",
   "execution_count": null,
   "metadata": {},
   "outputs": [],
   "source": []
  }
 ],
 "metadata": {
  "kernelspec": {
   "display_name": "Python 3 (ipykernel)",
   "language": "python",
   "name": "python3"
  },
  "language_info": {
   "codemirror_mode": {
    "name": "ipython",
    "version": 3
   },
   "file_extension": ".py",
   "mimetype": "text/x-python",
   "name": "python",
   "nbconvert_exporter": "python",
   "pygments_lexer": "ipython3",
   "version": "3.10.11"
  }
 },
 "nbformat": 4,
 "nbformat_minor": 1
}
