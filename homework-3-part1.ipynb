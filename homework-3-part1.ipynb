{
 "cells": [
  {
   "cell_type": "code",
   "execution_count": 31,
   "id": "6080aeaf",
   "metadata": {},
   "outputs": [],
   "source": [
    "# Florina Sutanto\n",
    "# June 9, 2023\n",
    "# Homework 3"
   ]
  },
  {
   "cell_type": "code",
   "execution_count": 33,
   "id": "e831406c",
   "metadata": {},
   "outputs": [],
   "source": [
    "# What is the URL to the documentation?\n",
    "# https://pokeapi.co/docs/v2 "
   ]
  },
  {
   "cell_type": "code",
   "execution_count": 41,
   "id": "7fadbe9a",
   "metadata": {},
   "outputs": [
    {
     "name": "stdout",
     "output_type": "stream",
     "text": [
      "dict_keys(['abilities', 'base_experience', 'forms', 'game_indices', 'height', 'held_items', 'id', 'is_default', 'location_area_encounters', 'moves', 'name', 'order', 'past_types', 'species', 'sprites', 'stats', 'types', 'weight'])\n",
      "golduck\n"
     ]
    }
   ],
   "source": [
    "# What pokemon has the ID of 55?\n",
    "# golduck\n",
    "\n",
    "import requests\n",
    "\n",
    "url = \"https://pokeapi.co/api/v2/pokemon/55\"\n",
    "response = requests.get(url)\n",
    "\n",
    "data = response.json()\n",
    "print(data.keys())\n",
    "\n",
    "print(data['name'])"
   ]
  },
  {
   "cell_type": "code",
   "execution_count": 37,
   "id": "15be51d5",
   "metadata": {},
   "outputs": [
    {
     "name": "stdout",
     "output_type": "stream",
     "text": [
      "17\n"
     ]
    }
   ],
   "source": [
    "# How tall is that pokemon?\n",
    "# 17 decimeters\n",
    "\n",
    "print(data['height'])"
   ]
  },
  {
   "cell_type": "code",
   "execution_count": 69,
   "id": "ee474246",
   "metadata": {},
   "outputs": [
    {
     "name": "stdout",
     "output_type": "stream",
     "text": [
      "dict_keys(['count', 'next', 'previous', 'results'])\n",
      "There have been 43 versions of Pokemon games\n"
     ]
    }
   ],
   "source": [
    "# How many versions of Pokemon games have been released?\n",
    "# There have been 43 versions of Pokemon games\n",
    "\n",
    "version_url = \"https://pokeapi.co/api/v2/version\"\n",
    "response = requests.get(version_url)\n",
    "\n",
    "version_data = response.json()\n",
    "print(version_data.keys())\n",
    "\n",
    "print(\"There have been\", version_data['count'], \"versions of Pokemon games\")\n"
   ]
  },
  {
   "cell_type": "code",
   "execution_count": 63,
   "id": "5384ce1f",
   "metadata": {},
   "outputs": [
    {
     "name": "stdout",
     "output_type": "stream",
     "text": [
      "dict_keys(['damage_relations', 'game_indices', 'generation', 'id', 'move_damage_class', 'moves', 'name', 'names', 'past_damage_relations', 'pokemon'])\n",
      "pikachu\n",
      "Here is a list of every electric-type Pokemon:\n",
      "pikachu\n",
      "raichu\n",
      "magnemite\n",
      "magneton\n",
      "voltorb\n",
      "electrode\n",
      "electabuzz\n",
      "jolteon\n",
      "zapdos\n",
      "chinchou\n",
      "lanturn\n",
      "pichu\n",
      "mareep\n",
      "flaaffy\n",
      "ampharos\n",
      "elekid\n",
      "raikou\n",
      "electrike\n",
      "manectric\n",
      "plusle\n",
      "minun\n",
      "shinx\n",
      "luxio\n",
      "luxray\n",
      "pachirisu\n",
      "magnezone\n",
      "electivire\n",
      "rotom\n",
      "blitzle\n",
      "zebstrika\n",
      "emolga\n",
      "joltik\n",
      "galvantula\n",
      "tynamo\n",
      "eelektrik\n",
      "eelektross\n",
      "stunfisk\n",
      "thundurus-incarnate\n",
      "zekrom\n",
      "helioptile\n",
      "heliolisk\n",
      "dedenne\n",
      "charjabug\n",
      "vikavolt\n",
      "togedemaru\n",
      "tapu-koko\n",
      "xurkitree\n",
      "zeraora\n",
      "yamper\n",
      "boltund\n",
      "toxel\n",
      "toxtricity-amped\n",
      "pincurchin\n",
      "morpeko-full-belly\n",
      "dracozolt\n",
      "arctozolt\n",
      "regieleki\n",
      "pawmi\n",
      "pawmo\n",
      "pawmot\n",
      "tadbulb\n",
      "bellibolt\n",
      "wattrel\n",
      "kilowattrel\n",
      "sandy-shocks\n",
      "iron-hands\n",
      "iron-thorns\n",
      "miraidon\n",
      "rotom-heat\n",
      "rotom-wash\n",
      "rotom-frost\n",
      "rotom-fan\n",
      "rotom-mow\n",
      "thundurus-therian\n",
      "ampharos-mega\n",
      "manectric-mega\n",
      "pikachu-rock-star\n",
      "pikachu-belle\n",
      "pikachu-pop-star\n",
      "pikachu-phd\n",
      "pikachu-libre\n",
      "pikachu-cosplay\n",
      "pikachu-original-cap\n",
      "pikachu-hoenn-cap\n",
      "pikachu-sinnoh-cap\n",
      "pikachu-unova-cap\n",
      "pikachu-kalos-cap\n",
      "pikachu-alola-cap\n",
      "raichu-alola\n",
      "geodude-alola\n",
      "graveler-alola\n",
      "golem-alola\n",
      "vikavolt-totem\n",
      "oricorio-pom-pom\n",
      "pikachu-partner-cap\n",
      "togedemaru-totem\n",
      "pikachu-starter\n",
      "pikachu-world-cap\n",
      "toxtricity-low-key\n",
      "morpeko-hangry\n",
      "pikachu-gmax\n",
      "toxtricity-amped-gmax\n",
      "toxtricity-low-key-gmax\n",
      "voltorb-hisui\n",
      "electrode-hisui\n",
      "miraidon-low-power-mode\n",
      "miraidon-drive-mode\n",
      "miraidon-aquatic-mode\n",
      "miraidon-glide-mode\n"
     ]
    }
   ],
   "source": [
    "# Print out the name of every electric-type pokemon.\n",
    "\n",
    "electric_url = \"https://pokeapi.co/api/v2/type/electric\"\n",
    "response = requests.get(electric_url)\n",
    "\n",
    "electric_data = response.json()\n",
    "print(electric_data.keys())\n",
    "\n",
    "print(electric_data['pokemon'][0]['pokemon']['name'])\n",
    "\n",
    "print(\"Here is a list of every electric-type Pokemon:\")\n",
    "for data in electric_data['pokemon']:\n",
    "    print(data['pokemon']['name'])\n"
   ]
  },
  {
   "cell_type": "code",
   "execution_count": 68,
   "id": "b1e97a09",
   "metadata": {},
   "outputs": [
    {
     "name": "stdout",
     "output_type": "stream",
     "text": [
      "[{'language': {'name': 'ja-Hrkt', 'url': 'https://pokeapi.co/api/v2/language/1/'}, 'name': 'でんき'}, {'language': {'name': 'ko', 'url': 'https://pokeapi.co/api/v2/language/3/'}, 'name': '전기'}, {'language': {'name': 'zh-Hant', 'url': 'https://pokeapi.co/api/v2/language/4/'}, 'name': '電'}, {'language': {'name': 'fr', 'url': 'https://pokeapi.co/api/v2/language/5/'}, 'name': 'Électrik'}, {'language': {'name': 'de', 'url': 'https://pokeapi.co/api/v2/language/6/'}, 'name': 'Elektro'}, {'language': {'name': 'es', 'url': 'https://pokeapi.co/api/v2/language/7/'}, 'name': 'Eléctrico'}, {'language': {'name': 'it', 'url': 'https://pokeapi.co/api/v2/language/8/'}, 'name': 'Elettro'}, {'language': {'name': 'en', 'url': 'https://pokeapi.co/api/v2/language/9/'}, 'name': 'Electric'}, {'language': {'name': 'ja', 'url': 'https://pokeapi.co/api/v2/language/11/'}, 'name': 'でんき'}, {'language': {'name': 'zh-Hans', 'url': 'https://pokeapi.co/api/v2/language/12/'}, 'name': '电'}]\n",
      "전기\n"
     ]
    }
   ],
   "source": [
    "# What are electric-type Pokemon called in the Korean version of the game? (i.e. what do they call electric-type pokemon in Korean if not \"electric\")\n",
    "# 전기\n",
    "\n",
    "print(electric_data['names'])\n",
    "\n",
    "for lang in electric_data['names']:\n",
    "    if lang['language']['name']=='ko':\n",
    "        print(lang['name'])"
   ]
  },
  {
   "cell_type": "code",
   "execution_count": 82,
   "id": "a5b46a90",
   "metadata": {},
   "outputs": [
    {
     "name": "stdout",
     "output_type": "stream",
     "text": [
      "dict_keys(['abilities', 'base_experience', 'forms', 'game_indices', 'height', 'held_items', 'id', 'is_default', 'location_area_encounters', 'moves', 'name', 'order', 'past_types', 'species', 'sprites', 'stats', 'types', 'weight'])\n",
      "[{'base_stat': 35, 'effort': 0, 'stat': {'name': 'hp', 'url': 'https://pokeapi.co/api/v2/stat/1/'}}, {'base_stat': 55, 'effort': 0, 'stat': {'name': 'attack', 'url': 'https://pokeapi.co/api/v2/stat/2/'}}, {'base_stat': 40, 'effort': 0, 'stat': {'name': 'defense', 'url': 'https://pokeapi.co/api/v2/stat/3/'}}, {'base_stat': 50, 'effort': 0, 'stat': {'name': 'special-attack', 'url': 'https://pokeapi.co/api/v2/stat/4/'}}, {'base_stat': 50, 'effort': 0, 'stat': {'name': 'special-defense', 'url': 'https://pokeapi.co/api/v2/stat/5/'}}, {'base_stat': 90, 'effort': 2, 'stat': {'name': 'speed', 'url': 'https://pokeapi.co/api/v2/stat/6/'}}]\n",
      "hp\n",
      "The speed stat for Pikachu is 90\n",
      "The speed stat for Eevee is 55\n",
      "Therefore, Pikachu has a higher speed stat\n"
     ]
    }
   ],
   "source": [
    "# Who has a higher speed stat, Eevee or Pikachu?\n",
    "# Pikachu has a higher speed stat\n",
    "\n",
    "pikachu_url = \"https://pokeapi.co/api/v2/pokemon/pikachu\"\n",
    "pikachu = requests.get(pikachu_url).json()\n",
    "print(pikachu.keys())\n",
    "\n",
    "eevee_url = \"https://pokeapi.co/api/v2/pokemon/eevee\"\n",
    "eevee = requests.get(eevee_url).json()\n",
    "\n",
    "print(pikachu['stats'])\n",
    "print(pikachu['stats'][0]['stat']['name'])\n",
    "\n",
    "for stat in pikachu['stats']:\n",
    "    if stat['stat']['name']=='speed':\n",
    "        print(\"The speed stat for Pikachu is\", stat['base_stat'])\n",
    "        \n",
    "for stat in eevee['stats']:\n",
    "    if stat['stat']['name']=='speed':\n",
    "        print(\"The speed stat for Eevee is\", stat['base_stat'])\n",
    "        \n",
    "print(\"Therefore, Pikachu has a higher speed stat\")\n",
    "        "
   ]
  },
  {
   "cell_type": "code",
   "execution_count": null,
   "id": "fc8f50d5",
   "metadata": {},
   "outputs": [],
   "source": []
  }
 ],
 "metadata": {
  "kernelspec": {
   "display_name": "Python 3 (ipykernel)",
   "language": "python",
   "name": "python3"
  },
  "language_info": {
   "codemirror_mode": {
    "name": "ipython",
    "version": 3
   },
   "file_extension": ".py",
   "mimetype": "text/x-python",
   "name": "python",
   "nbconvert_exporter": "python",
   "pygments_lexer": "ipython3",
   "version": "3.10.11"
  }
 },
 "nbformat": 4,
 "nbformat_minor": 5
}
