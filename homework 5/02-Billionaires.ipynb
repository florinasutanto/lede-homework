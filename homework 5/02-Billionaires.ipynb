{
 "cells": [
  {
   "cell_type": "markdown",
   "metadata": {},
   "source": [
    "# Homework 5, Part 2: Answer questions with pandas\n",
    "\n",
    "**Use the Excel file to answer the following questions.** This is a little more typical of what your data exploration will look like with pandas."
   ]
  },
  {
   "cell_type": "markdown",
   "metadata": {},
   "source": [
    "## 0) Setup\n",
    "\n",
    "Import pandas **with the correct name** ."
   ]
  },
  {
   "cell_type": "code",
   "execution_count": 1,
   "metadata": {},
   "outputs": [],
   "source": [
    "import pandas as pd"
   ]
  },
  {
   "cell_type": "markdown",
   "metadata": {},
   "source": [
    "## 1) Reading in an Excel file\n",
    "\n",
    "Use pandas to read in the `richpeople.xlsx` Excel file, saving it as a variable with the name we'll always use for a dataframe.\n",
    "\n",
    "> **TIP:** You will use `read_excel` instead of `read_csv`. Trying `read_excel` the first time will probably not work, you'll get an error message. Be sure to read the error carefully: *you probably need to install a new library before it will work, and the error tells you what the library is named*."
   ]
  },
  {
   "cell_type": "code",
   "execution_count": 6,
   "metadata": {},
   "outputs": [
    {
     "name": "stdout",
     "output_type": "stream",
     "text": [
      "Requirement already satisfied: openpyxl in /Users/claraflorinasutanto/.pyenv/versions/3.10.11/lib/python3.10/site-packages (3.1.2)\n",
      "Requirement already satisfied: et-xmlfile in /Users/claraflorinasutanto/.pyenv/versions/3.10.11/lib/python3.10/site-packages (from openpyxl) (1.1.0)\n"
     ]
    }
   ],
   "source": [
    "!pip install openpyxl\n",
    "\n",
    "df = pd.read_excel('richpeople.xlsx')"
   ]
  },
  {
   "cell_type": "markdown",
   "metadata": {},
   "source": [
    "## 2) Checking your data\n",
    "\n",
    "Display the number of rows and columns in your data. Also display the names and data types of each column."
   ]
  },
  {
   "cell_type": "code",
   "execution_count": 8,
   "metadata": {},
   "outputs": [
    {
     "data": {
      "text/plain": [
       "(1653, 30)"
      ]
     },
     "execution_count": 8,
     "metadata": {},
     "output_type": "execute_result"
    }
   ],
   "source": [
    "df.shape"
   ]
  },
  {
   "cell_type": "code",
   "execution_count": 11,
   "metadata": {},
   "outputs": [
    {
     "data": {
      "text/plain": [
       "year                         int64\n",
       "name                        object\n",
       "rank                         int64\n",
       "citizenship                 object\n",
       "countrycode                 object\n",
       "networthusbillion          float64\n",
       "selfmade                    object\n",
       "typeofwealth                object\n",
       "gender                      object\n",
       "age                        float64\n",
       "industry                    object\n",
       "IndustryAggregates          object\n",
       "region                      object\n",
       "north                        int64\n",
       "politicalconnection        float64\n",
       "founder                      int64\n",
       "generationofinheritance     object\n",
       "sector                      object\n",
       "company                     object\n",
       "companytype                 object\n",
       "relationshiptocompany       object\n",
       "foundingdate               float64\n",
       "gdpcurrentus               float64\n",
       "sourceofwealth              object\n",
       "notes                       object\n",
       "notes2                      object\n",
       "source                      object\n",
       "source_2                    object\n",
       "source_3                    object\n",
       "source_4                    object\n",
       "dtype: object"
      ]
     },
     "execution_count": 11,
     "metadata": {},
     "output_type": "execute_result"
    }
   ],
   "source": [
    "df.dtypes"
   ]
  },
  {
   "cell_type": "code",
   "execution_count": null,
   "metadata": {},
   "outputs": [],
   "source": []
  },
  {
   "cell_type": "markdown",
   "metadata": {},
   "source": [
    "## 3) Who are the top 10 richest billionaires? Use the `networthusbillion` column."
   ]
  },
  {
   "cell_type": "code",
   "execution_count": 53,
   "metadata": {},
   "outputs": [
    {
     "data": {
      "text/html": [
       "<div>\n",
       "<style scoped>\n",
       "    .dataframe tbody tr th:only-of-type {\n",
       "        vertical-align: middle;\n",
       "    }\n",
       "\n",
       "    .dataframe tbody tr th {\n",
       "        vertical-align: top;\n",
       "    }\n",
       "\n",
       "    .dataframe thead th {\n",
       "        text-align: right;\n",
       "    }\n",
       "</style>\n",
       "<table border=\"1\" class=\"dataframe\">\n",
       "  <thead>\n",
       "    <tr style=\"text-align: right;\">\n",
       "      <th></th>\n",
       "      <th>year</th>\n",
       "      <th>name</th>\n",
       "      <th>rank</th>\n",
       "      <th>citizenship</th>\n",
       "      <th>countrycode</th>\n",
       "      <th>networthusbillion</th>\n",
       "      <th>selfmade</th>\n",
       "      <th>typeofwealth</th>\n",
       "      <th>gender</th>\n",
       "      <th>age</th>\n",
       "      <th>...</th>\n",
       "      <th>relationshiptocompany</th>\n",
       "      <th>foundingdate</th>\n",
       "      <th>gdpcurrentus</th>\n",
       "      <th>sourceofwealth</th>\n",
       "      <th>notes</th>\n",
       "      <th>notes2</th>\n",
       "      <th>source</th>\n",
       "      <th>source_2</th>\n",
       "      <th>source_3</th>\n",
       "      <th>source_4</th>\n",
       "    </tr>\n",
       "  </thead>\n",
       "  <tbody>\n",
       "    <tr>\n",
       "      <th>184</th>\n",
       "      <td>2014</td>\n",
       "      <td>Bill Gates</td>\n",
       "      <td>1</td>\n",
       "      <td>United States</td>\n",
       "      <td>USA</td>\n",
       "      <td>76.0</td>\n",
       "      <td>self-made</td>\n",
       "      <td>founder non-finance</td>\n",
       "      <td>male</td>\n",
       "      <td>58.0</td>\n",
       "      <td>...</td>\n",
       "      <td>founder</td>\n",
       "      <td>1975.0</td>\n",
       "      <td>NaN</td>\n",
       "      <td>Microsoft</td>\n",
       "      <td>NaN</td>\n",
       "      <td>NaN</td>\n",
       "      <td>http://www.forbes.com/profile/bill-gates/</td>\n",
       "      <td>NaN</td>\n",
       "      <td>NaN</td>\n",
       "      <td>NaN</td>\n",
       "    </tr>\n",
       "    <tr>\n",
       "      <th>226</th>\n",
       "      <td>2014</td>\n",
       "      <td>Carlos Slim Helu</td>\n",
       "      <td>2</td>\n",
       "      <td>Mexico</td>\n",
       "      <td>MEX</td>\n",
       "      <td>72.0</td>\n",
       "      <td>self-made</td>\n",
       "      <td>privatized and resources</td>\n",
       "      <td>male</td>\n",
       "      <td>74.0</td>\n",
       "      <td>...</td>\n",
       "      <td>founder</td>\n",
       "      <td>1990.0</td>\n",
       "      <td>NaN</td>\n",
       "      <td>telecom</td>\n",
       "      <td>NaN</td>\n",
       "      <td>NaN</td>\n",
       "      <td>http://www.ozy.com/provocateurs/carlos-slims-w...</td>\n",
       "      <td>NaN</td>\n",
       "      <td>NaN</td>\n",
       "      <td>NaN</td>\n",
       "    </tr>\n",
       "    <tr>\n",
       "      <th>79</th>\n",
       "      <td>2014</td>\n",
       "      <td>Amancio Ortega</td>\n",
       "      <td>3</td>\n",
       "      <td>Spain</td>\n",
       "      <td>ESP</td>\n",
       "      <td>64.0</td>\n",
       "      <td>self-made</td>\n",
       "      <td>founder non-finance</td>\n",
       "      <td>male</td>\n",
       "      <td>77.0</td>\n",
       "      <td>...</td>\n",
       "      <td>founder</td>\n",
       "      <td>1975.0</td>\n",
       "      <td>NaN</td>\n",
       "      <td>retail</td>\n",
       "      <td>NaN</td>\n",
       "      <td>NaN</td>\n",
       "      <td>http://www.forbes.com/profile/amancio-ortega/</td>\n",
       "      <td>NaN</td>\n",
       "      <td>NaN</td>\n",
       "      <td>NaN</td>\n",
       "    </tr>\n",
       "    <tr>\n",
       "      <th>1562</th>\n",
       "      <td>2014</td>\n",
       "      <td>Warren Buffett</td>\n",
       "      <td>4</td>\n",
       "      <td>United States</td>\n",
       "      <td>USA</td>\n",
       "      <td>58.2</td>\n",
       "      <td>self-made</td>\n",
       "      <td>founder non-finance</td>\n",
       "      <td>male</td>\n",
       "      <td>83.0</td>\n",
       "      <td>...</td>\n",
       "      <td>founder</td>\n",
       "      <td>1839.0</td>\n",
       "      <td>NaN</td>\n",
       "      <td>Berkshire Hathaway</td>\n",
       "      <td>NaN</td>\n",
       "      <td>NaN</td>\n",
       "      <td>http://www.forbes.com/lists/2009/10/billionair...</td>\n",
       "      <td>http://www.forbes.com/companies/berkshire-hath...</td>\n",
       "      <td>NaN</td>\n",
       "      <td>NaN</td>\n",
       "    </tr>\n",
       "    <tr>\n",
       "      <th>862</th>\n",
       "      <td>2014</td>\n",
       "      <td>Larry Ellison</td>\n",
       "      <td>5</td>\n",
       "      <td>United States</td>\n",
       "      <td>USA</td>\n",
       "      <td>48.0</td>\n",
       "      <td>self-made</td>\n",
       "      <td>founder non-finance</td>\n",
       "      <td>male</td>\n",
       "      <td>69.0</td>\n",
       "      <td>...</td>\n",
       "      <td>founder</td>\n",
       "      <td>1977.0</td>\n",
       "      <td>NaN</td>\n",
       "      <td>Oracle</td>\n",
       "      <td>NaN</td>\n",
       "      <td>NaN</td>\n",
       "      <td>http://www.forbes.com/profile/larry-ellison/</td>\n",
       "      <td>http://www.businessinsider.com/how-larry-ellis...</td>\n",
       "      <td>NaN</td>\n",
       "      <td>NaN</td>\n",
       "    </tr>\n",
       "    <tr>\n",
       "      <th>339</th>\n",
       "      <td>2014</td>\n",
       "      <td>David Koch</td>\n",
       "      <td>6</td>\n",
       "      <td>United States</td>\n",
       "      <td>USA</td>\n",
       "      <td>40.0</td>\n",
       "      <td>inherited</td>\n",
       "      <td>inherited</td>\n",
       "      <td>male</td>\n",
       "      <td>73.0</td>\n",
       "      <td>...</td>\n",
       "      <td>relation</td>\n",
       "      <td>1940.0</td>\n",
       "      <td>NaN</td>\n",
       "      <td>diversified</td>\n",
       "      <td>inherited from father</td>\n",
       "      <td>NaN</td>\n",
       "      <td>http://www.kochind.com/About_Koch/History_Time...</td>\n",
       "      <td>NaN</td>\n",
       "      <td>NaN</td>\n",
       "      <td>NaN</td>\n",
       "    </tr>\n",
       "    <tr>\n",
       "      <th>247</th>\n",
       "      <td>2014</td>\n",
       "      <td>Charles Koch</td>\n",
       "      <td>6</td>\n",
       "      <td>United States</td>\n",
       "      <td>USA</td>\n",
       "      <td>40.0</td>\n",
       "      <td>inherited</td>\n",
       "      <td>inherited</td>\n",
       "      <td>male</td>\n",
       "      <td>78.0</td>\n",
       "      <td>...</td>\n",
       "      <td>relation</td>\n",
       "      <td>1940.0</td>\n",
       "      <td>NaN</td>\n",
       "      <td>diversified</td>\n",
       "      <td>inherited from father</td>\n",
       "      <td>NaN</td>\n",
       "      <td>http://www.kochind.com/About_Koch/History_Time...</td>\n",
       "      <td>NaN</td>\n",
       "      <td>NaN</td>\n",
       "      <td>NaN</td>\n",
       "    </tr>\n",
       "    <tr>\n",
       "      <th>1364</th>\n",
       "      <td>2014</td>\n",
       "      <td>Sheldon Adelson</td>\n",
       "      <td>8</td>\n",
       "      <td>United States</td>\n",
       "      <td>USA</td>\n",
       "      <td>38.0</td>\n",
       "      <td>self-made</td>\n",
       "      <td>self-made finance</td>\n",
       "      <td>male</td>\n",
       "      <td>80.0</td>\n",
       "      <td>...</td>\n",
       "      <td>founder</td>\n",
       "      <td>1952.0</td>\n",
       "      <td>NaN</td>\n",
       "      <td>casinos</td>\n",
       "      <td>NaN</td>\n",
       "      <td>NaN</td>\n",
       "      <td>http://www.forbes.com/profile/sheldon-adelson/</td>\n",
       "      <td>http://lasvegassun.com/news/1996/nov/26/rat-pa...</td>\n",
       "      <td>NaN</td>\n",
       "      <td>NaN</td>\n",
       "    </tr>\n",
       "    <tr>\n",
       "      <th>280</th>\n",
       "      <td>2014</td>\n",
       "      <td>Christy Walton</td>\n",
       "      <td>9</td>\n",
       "      <td>United States</td>\n",
       "      <td>USA</td>\n",
       "      <td>36.7</td>\n",
       "      <td>inherited</td>\n",
       "      <td>inherited</td>\n",
       "      <td>female</td>\n",
       "      <td>59.0</td>\n",
       "      <td>...</td>\n",
       "      <td>relation</td>\n",
       "      <td>1962.0</td>\n",
       "      <td>NaN</td>\n",
       "      <td>Wal-Mart</td>\n",
       "      <td>widow</td>\n",
       "      <td>NaN</td>\n",
       "      <td>http://www.forbes.com/profile/christy-walton/</td>\n",
       "      <td>NaN</td>\n",
       "      <td>NaN</td>\n",
       "      <td>NaN</td>\n",
       "    </tr>\n",
       "    <tr>\n",
       "      <th>724</th>\n",
       "      <td>2014</td>\n",
       "      <td>Jim Walton</td>\n",
       "      <td>10</td>\n",
       "      <td>United States</td>\n",
       "      <td>USA</td>\n",
       "      <td>34.7</td>\n",
       "      <td>inherited</td>\n",
       "      <td>inherited</td>\n",
       "      <td>male</td>\n",
       "      <td>66.0</td>\n",
       "      <td>...</td>\n",
       "      <td>relation</td>\n",
       "      <td>1962.0</td>\n",
       "      <td>NaN</td>\n",
       "      <td>Wal-Mart</td>\n",
       "      <td>inherited from father</td>\n",
       "      <td>NaN</td>\n",
       "      <td>http://www.forbes.com/profile/jim-walton/</td>\n",
       "      <td>NaN</td>\n",
       "      <td>NaN</td>\n",
       "      <td>NaN</td>\n",
       "    </tr>\n",
       "  </tbody>\n",
       "</table>\n",
       "<p>10 rows × 30 columns</p>\n",
       "</div>"
      ],
      "text/plain": [
       "      year              name  rank    citizenship countrycode  \\\n",
       "184   2014        Bill Gates     1  United States         USA   \n",
       "226   2014  Carlos Slim Helu     2         Mexico         MEX   \n",
       "79    2014    Amancio Ortega     3          Spain         ESP   \n",
       "1562  2014    Warren Buffett     4  United States         USA   \n",
       "862   2014     Larry Ellison     5  United States         USA   \n",
       "339   2014        David Koch     6  United States         USA   \n",
       "247   2014      Charles Koch     6  United States         USA   \n",
       "1364  2014   Sheldon Adelson     8  United States         USA   \n",
       "280   2014    Christy Walton     9  United States         USA   \n",
       "724   2014        Jim Walton    10  United States         USA   \n",
       "\n",
       "      networthusbillion   selfmade              typeofwealth  gender   age  \\\n",
       "184                76.0  self-made       founder non-finance    male  58.0   \n",
       "226                72.0  self-made  privatized and resources    male  74.0   \n",
       "79                 64.0  self-made       founder non-finance    male  77.0   \n",
       "1562               58.2  self-made       founder non-finance    male  83.0   \n",
       "862                48.0  self-made       founder non-finance    male  69.0   \n",
       "339                40.0  inherited                 inherited    male  73.0   \n",
       "247                40.0  inherited                 inherited    male  78.0   \n",
       "1364               38.0  self-made         self-made finance    male  80.0   \n",
       "280                36.7  inherited                 inherited  female  59.0   \n",
       "724                34.7  inherited                 inherited    male  66.0   \n",
       "\n",
       "      ... relationshiptocompany foundingdate gdpcurrentus      sourceofwealth  \\\n",
       "184   ...               founder       1975.0          NaN           Microsoft   \n",
       "226   ...               founder       1990.0          NaN             telecom   \n",
       "79    ...               founder       1975.0          NaN              retail   \n",
       "1562  ...               founder       1839.0          NaN  Berkshire Hathaway   \n",
       "862   ...               founder       1977.0          NaN              Oracle   \n",
       "339   ...              relation       1940.0          NaN         diversified   \n",
       "247   ...              relation       1940.0          NaN         diversified   \n",
       "1364  ...               founder       1952.0          NaN             casinos   \n",
       "280   ...              relation       1962.0          NaN            Wal-Mart   \n",
       "724   ...              relation       1962.0          NaN            Wal-Mart   \n",
       "\n",
       "                      notes  notes2  \\\n",
       "184                     NaN     NaN   \n",
       "226                     NaN     NaN   \n",
       "79                      NaN     NaN   \n",
       "1562                    NaN     NaN   \n",
       "862                     NaN     NaN   \n",
       "339   inherited from father     NaN   \n",
       "247   inherited from father     NaN   \n",
       "1364                    NaN     NaN   \n",
       "280                   widow     NaN   \n",
       "724   inherited from father     NaN   \n",
       "\n",
       "                                                 source  \\\n",
       "184           http://www.forbes.com/profile/bill-gates/   \n",
       "226   http://www.ozy.com/provocateurs/carlos-slims-w...   \n",
       "79        http://www.forbes.com/profile/amancio-ortega/   \n",
       "1562  http://www.forbes.com/lists/2009/10/billionair...   \n",
       "862        http://www.forbes.com/profile/larry-ellison/   \n",
       "339   http://www.kochind.com/About_Koch/History_Time...   \n",
       "247   http://www.kochind.com/About_Koch/History_Time...   \n",
       "1364     http://www.forbes.com/profile/sheldon-adelson/   \n",
       "280       http://www.forbes.com/profile/christy-walton/   \n",
       "724           http://www.forbes.com/profile/jim-walton/   \n",
       "\n",
       "                                               source_2 source_3 source_4  \n",
       "184                                                 NaN      NaN      NaN  \n",
       "226                                                 NaN      NaN      NaN  \n",
       "79                                                  NaN      NaN      NaN  \n",
       "1562  http://www.forbes.com/companies/berkshire-hath...      NaN      NaN  \n",
       "862   http://www.businessinsider.com/how-larry-ellis...      NaN      NaN  \n",
       "339                                                 NaN      NaN      NaN  \n",
       "247                                                 NaN      NaN      NaN  \n",
       "1364  http://lasvegassun.com/news/1996/nov/26/rat-pa...      NaN      NaN  \n",
       "280                                                 NaN      NaN      NaN  \n",
       "724                                                 NaN      NaN      NaN  \n",
       "\n",
       "[10 rows x 30 columns]"
      ]
     },
     "execution_count": 53,
     "metadata": {},
     "output_type": "execute_result"
    }
   ],
   "source": [
    "df.sort_values(by='networthusbillion', ascending=False).head(10)"
   ]
  },
  {
   "cell_type": "markdown",
   "metadata": {},
   "source": [
    "## 4a) How many male billionaires are there compared to the number of female billionares?\n",
    "\n",
    "> **TIP:** The last part uses `groupby`, but the count/percent part does not.\n",
    "> **TIP:** When I say \"average,\" you can pick what kind of average you use."
   ]
  },
  {
   "cell_type": "code",
   "execution_count": 29,
   "metadata": {},
   "outputs": [
    {
     "data": {
      "text/plain": [
       "gender\n",
       "female     180\n",
       "male      1473\n",
       "dtype: int64"
      ]
     },
     "execution_count": 29,
     "metadata": {},
     "output_type": "execute_result"
    }
   ],
   "source": [
    "df.groupby(by='gender').size()"
   ]
  },
  {
   "cell_type": "markdown",
   "metadata": {},
   "source": [
    "## 4b) What percent is that?"
   ]
  },
  {
   "cell_type": "code",
   "execution_count": 40,
   "metadata": {},
   "outputs": [
    {
     "name": "stdout",
     "output_type": "stream",
     "text": [
      "89.0% of billionares are male\n"
     ]
    }
   ],
   "source": [
    "df_gender = df.groupby(by='gender').size()\n",
    "sum = df_gender['female'] + df_gender['male']\n",
    "\n",
    "male_bill = (df_gender['male'] / sum) * 100\n",
    "print(f\"{round(male_bill, 0)}% of billionares are male\")"
   ]
  },
  {
   "cell_type": "markdown",
   "metadata": {},
   "source": [
    "## 4c) Is the average wealth different for a female billionaire as compared to a male billionaire?"
   ]
  },
  {
   "cell_type": "code",
   "execution_count": 57,
   "metadata": {},
   "outputs": [
    {
     "name": "stdout",
     "output_type": "stream",
     "text": [
      "The average wealth for a female billionaire is $3.921 billion dollars, while the average wealth for a male billionaire is $3.903 billion dollars.\n"
     ]
    }
   ],
   "source": [
    "female = df[df['gender'] == 'female']\n",
    "female_mean = female.networthusbillion.mean()\n",
    "\n",
    "male = df[df['gender'] == 'male']\n",
    "male_mean = male.networthusbillion.mean()\n",
    "\n",
    "print(f\"The average wealth for a female billionaire is ${round(female_mean, 3)} billion dollars, while the average wealth for a male billionaire is ${round(male_mean, 3)} billion dollars.\")"
   ]
  },
  {
   "cell_type": "code",
   "execution_count": 58,
   "metadata": {},
   "outputs": [
    {
     "name": "stdout",
     "output_type": "stream",
     "text": [
      "The average wealths might not seem that different, but remember that there are way more male billionaires than female ones!\n"
     ]
    }
   ],
   "source": [
    "print(f\"The average wealths might not seem that different, but remember that there are way more male billionaires than female ones!\")"
   ]
  },
  {
   "cell_type": "markdown",
   "metadata": {},
   "source": [
    "## 5a) What is the most common source/type of wealth?"
   ]
  },
  {
   "cell_type": "code",
   "execution_count": 65,
   "metadata": {},
   "outputs": [
    {
     "data": {
      "text/plain": [
       "typeofwealth\n",
       "inherited                   506\n",
       "founder non-finance         467\n",
       "self-made finance           344\n",
       "privatized and resources    192\n",
       "executive                   142\n",
       "dtype: int64"
      ]
     },
     "execution_count": 65,
     "metadata": {},
     "output_type": "execute_result"
    }
   ],
   "source": [
    "df.groupby(by='typeofwealth').size().sort_values(ascending=False)"
   ]
  },
  {
   "cell_type": "code",
   "execution_count": 66,
   "metadata": {},
   "outputs": [
    {
     "name": "stdout",
     "output_type": "stream",
     "text": [
      "The most commmon type of wealth is inherited wealth.\n"
     ]
    }
   ],
   "source": [
    "print(\"The most commmon type of wealth is inherited wealth.\")"
   ]
  },
  {
   "cell_type": "markdown",
   "metadata": {},
   "source": [
    "## 5b) Is the most common source/type of wealth different between men and women?\n",
    "\n",
    "> **TIP:** You know how to `groupby` and you know how to count how many times a value is in a column. Can you put them together???\n",
    ">\n",
    "> **TIP:** Use percentages for this, it makes it a lot more readable."
   ]
  },
  {
   "cell_type": "code",
   "execution_count": 121,
   "metadata": {},
   "outputs": [
    {
     "data": {
      "text/plain": [
       "gender  gender  typeofwealth            \n",
       "female  female  inherited                   142\n",
       "                founder non-finance          21\n",
       "                executive                     6\n",
       "                self-made finance             6\n",
       "                privatized and resources      5\n",
       "male    male    founder non-finance         446\n",
       "                inherited                   364\n",
       "                self-made finance           338\n",
       "                privatized and resources    187\n",
       "                executive                   136\n",
       "dtype: int64"
      ]
     },
     "execution_count": 121,
     "metadata": {},
     "output_type": "execute_result"
    }
   ],
   "source": [
    "df.groupby(['gender', 'typeofwealth']).size().groupby('gender').apply(lambda x: x.sort_values(ascending=False))"
   ]
  },
  {
   "cell_type": "code",
   "execution_count": 137,
   "metadata": {},
   "outputs": [
    {
     "data": {
      "text/plain": [
       "gender  typeofwealth            \n",
       "female  inherited                   0.79\n",
       "        founder non-finance         0.12\n",
       "        executive                   0.03\n",
       "        self-made finance           0.03\n",
       "        privatized and resources    0.03\n",
       "male    founder non-finance         0.30\n",
       "        inherited                   0.25\n",
       "        self-made finance           0.23\n",
       "        privatized and resources    0.13\n",
       "        executive                   0.09\n",
       "Name: proportion, dtype: float64"
      ]
     },
     "execution_count": 137,
     "metadata": {},
     "output_type": "execute_result"
    }
   ],
   "source": [
    "df.groupby(by='gender').typeofwealth.value_counts(normalize=True).round(2)"
   ]
  },
  {
   "cell_type": "code",
   "execution_count": 125,
   "metadata": {},
   "outputs": [
    {
     "name": "stdout",
     "output_type": "stream",
     "text": [
      "The most common type of wealth is different between men and women. Most female billionaires inherited their wealth, while most male billionaires made their money by being founder in non-finance industries.\n"
     ]
    }
   ],
   "source": [
    "print(\"The most common type of wealth is different between men and women. Most female billionaires inherited their wealth, while most male billionaires made their money by being founder in non-finance industries.\")"
   ]
  },
  {
   "cell_type": "code",
   "execution_count": null,
   "metadata": {},
   "outputs": [],
   "source": []
  },
  {
   "cell_type": "markdown",
   "metadata": {},
   "source": [
    "## 6) What companies have the most billionaires? Graph the top 5 as a horizontal bar graph.\n",
    "\n",
    "> **TIP:** First find the answer to the question, then just try to throw `.plot()` on the end\n",
    ">\n",
    "> **TIP:** You can use `.head()` on *anything*, not just your basic `df`\n",
    ">\n",
    "> **TIP:** You might feel like you should use `groupby`, but don't! There's an easier way to count.\n",
    ">\n",
    "> **TIP:** Make the largest bar be at the top of the graph\n",
    ">\n",
    "> **TIP:** If your chart seems... weird, think about where in the process you're sorting vs using `head`"
   ]
  },
  {
   "cell_type": "code",
   "execution_count": 156,
   "metadata": {},
   "outputs": [
    {
     "data": {
      "text/plain": [
       "<Axes: ylabel='company'>"
      ]
     },
     "execution_count": 156,
     "metadata": {},
     "output_type": "execute_result"
    },
    {
     "data": {
      "image/png": "[encoded data removed]",
      "text/plain": [
       "<Figure size 640x480 with 1 Axes>"
      ]
     },
     "metadata": {},
     "output_type": "display_data"
    }
   ],
   "source": [
    "import matplotlib.pyplot as plt\n",
    "\n",
    "df.company.value_counts().head().sort_values(ascending=True).plot(kind='barh')"
   ]
  },
  {
   "cell_type": "markdown",
   "metadata": {},
   "source": [
    "## 7) How much money do these top 5 billionaires have in total?"
   ]
  },
  {
   "cell_type": "code",
   "execution_count": 193,
   "metadata": {},
   "outputs": [
    {
     "name": "stdout",
     "output_type": "stream",
     "text": [
      "The billionaires in these companies collectively have $120.3 billion.\n"
     ]
    }
   ],
   "source": [
    "top_companies = df.company.value_counts().head(5)\n",
    "\n",
    "top5_total= df[df['company'].isin(top_companies.index)]\n",
    "\n",
    "top5_sum = top5_total.networthusbillion.sum()\n",
    "\n",
    "print(f\"The billionaires in these companies collectively have ${round(top5_sum, 2)} billion.\")\n"
   ]
  },
  {
   "cell_type": "markdown",
   "metadata": {},
   "source": [
    "## 8) What are the top 10 countries with the most money held by billionaires?\n",
    "\n",
    "I am **not** asking which country has the most billionaires - this is **total amount of money per country.**\n",
    "\n",
    "> **TIP:** Think about it in steps - \"I want them organized by country,\" \"I want their net worth,\" \"I want to add it all up,\" and \"I want 10 of them.\" Just chain it all together."
   ]
  },
  {
   "cell_type": "code",
   "execution_count": 204,
   "metadata": {},
   "outputs": [
    {
     "data": {
      "text/plain": [
       "citizenship\n",
       "United States     2322.4\n",
       "Russia             422.5\n",
       "Germany            401.4\n",
       "China              375.8\n",
       "France             235.3\n",
       "Hong Kong          213.7\n",
       "Brazil             192.2\n",
       "India              191.9\n",
       "Italy              158.1\n",
       "United Kingdom     152.0\n",
       "Name: networthusbillion, dtype: float64"
      ]
     },
     "execution_count": 204,
     "metadata": {},
     "output_type": "execute_result"
    }
   ],
   "source": [
    "df.groupby('citizenship').networthusbillion.sum().sort_values(ascending=False).head(10)"
   ]
  },
  {
   "cell_type": "markdown",
   "metadata": {},
   "source": [
    "## 9a) How old is an average billionaire?"
   ]
  },
  {
   "cell_type": "code",
   "execution_count": 208,
   "metadata": {},
   "outputs": [
    {
     "name": "stdout",
     "output_type": "stream",
     "text": [
      "The average billionaire is 63 years old\n"
     ]
    }
   ],
   "source": [
    "age = df.age.mean()\n",
    "\n",
    "print(f\"The average billionaire is {int(round(age, 0))} years old.\")"
   ]
  },
  {
   "cell_type": "markdown",
   "metadata": {},
   "source": [
    "## 9b) How old are self-made billionaires compared to non self-made billionaires? "
   ]
  },
  {
   "cell_type": "code",
   "execution_count": 220,
   "metadata": {},
   "outputs": [
    {
     "name": "stdout",
     "output_type": "stream",
     "text": [
      "Self-made billionaires are on average 62 years old, while non self-made billionaires are on average 65 years old.\n"
     ]
    }
   ],
   "source": [
    "self_made = df[df['selfmade'] == 'self-made']\n",
    "self_made_mean = self_made.age.mean()\n",
    "\n",
    "not_self_made = df[df['selfmade'] != 'self-made']\n",
    "not_self_made_mean = not_self_made.age.mean()\n",
    "\n",
    "print(f\"Self-made billionaires are on average {int(self_made_mean)} years old, while non self-made billionaires are on average {int(not_self_made_mean)} years old.\")"
   ]
  },
  {
   "cell_type": "code",
   "execution_count": null,
   "metadata": {},
   "outputs": [],
   "source": []
  },
  {
   "cell_type": "markdown",
   "metadata": {},
   "source": [
    "## 10a) Who are the three youngest billionaires? Who are the three oldest?"
   ]
  },
  {
   "cell_type": "code",
   "execution_count": 252,
   "metadata": {},
   "outputs": [
    {
     "name": "stdout",
     "output_type": "stream",
     "text": [
      "Here are the three youngest billionaires:\n",
      "Perenna Kei is 24 years old.\n",
      "Dustin Moskovitz is 29 years old.\n",
      "Mark Zuckerberg is 29 years old.\n"
     ]
    }
   ],
   "source": [
    "youngest = df.sort_values('age').head(3)\n",
    "\n",
    "print(\"Here are the three youngest billionaires:\")\n",
    "for index, person in youngest.iterrows():\n",
    "    print(f\"{person['name']} is {int(person['age'])} years old.\")"
   ]
  },
  {
   "cell_type": "code",
   "execution_count": 270,
   "metadata": {},
   "outputs": [
    {
     "data": {
      "text/html": [
       "<div>\n",
       "<style scoped>\n",
       "    .dataframe tbody tr th:only-of-type {\n",
       "        vertical-align: middle;\n",
       "    }\n",
       "\n",
       "    .dataframe tbody tr th {\n",
       "        vertical-align: top;\n",
       "    }\n",
       "\n",
       "    .dataframe thead th {\n",
       "        text-align: right;\n",
       "    }\n",
       "</style>\n",
       "<table border=\"1\" class=\"dataframe\">\n",
       "  <thead>\n",
       "    <tr style=\"text-align: right;\">\n",
       "      <th></th>\n",
       "      <th>year</th>\n",
       "      <th>name</th>\n",
       "      <th>rank</th>\n",
       "      <th>citizenship</th>\n",
       "      <th>countrycode</th>\n",
       "      <th>networthusbillion</th>\n",
       "      <th>selfmade</th>\n",
       "      <th>typeofwealth</th>\n",
       "      <th>gender</th>\n",
       "      <th>age</th>\n",
       "      <th>...</th>\n",
       "      <th>relationshiptocompany</th>\n",
       "      <th>foundingdate</th>\n",
       "      <th>gdpcurrentus</th>\n",
       "      <th>sourceofwealth</th>\n",
       "      <th>notes</th>\n",
       "      <th>notes2</th>\n",
       "      <th>source</th>\n",
       "      <th>source_2</th>\n",
       "      <th>source_3</th>\n",
       "      <th>source_4</th>\n",
       "    </tr>\n",
       "  </thead>\n",
       "  <tbody>\n",
       "    <tr>\n",
       "      <th>836</th>\n",
       "      <td>2014</td>\n",
       "      <td>Kirk Kerkorian</td>\n",
       "      <td>328</td>\n",
       "      <td>United States</td>\n",
       "      <td>USA</td>\n",
       "      <td>4.5</td>\n",
       "      <td>self-made</td>\n",
       "      <td>self-made finance</td>\n",
       "      <td>male</td>\n",
       "      <td>96.0</td>\n",
       "      <td>...</td>\n",
       "      <td>investor</td>\n",
       "      <td>1924.0</td>\n",
       "      <td>NaN</td>\n",
       "      <td>casinos, investments</td>\n",
       "      <td>purchased in 1969</td>\n",
       "      <td>NaN</td>\n",
       "      <td>http://en.wikipedia.org/wiki/Kirk_Kerkorian</td>\n",
       "      <td>http://www.forbes.com/profile/kirk-kerkorian/</td>\n",
       "      <td>PROFILE: Las Vegas billionaire amassed his wea...</td>\n",
       "      <td>NaN</td>\n",
       "    </tr>\n",
       "    <tr>\n",
       "      <th>816</th>\n",
       "      <td>2014</td>\n",
       "      <td>Karl Wlaschek</td>\n",
       "      <td>305</td>\n",
       "      <td>Austria</td>\n",
       "      <td>AUT</td>\n",
       "      <td>4.8</td>\n",
       "      <td>self-made</td>\n",
       "      <td>founder non-finance</td>\n",
       "      <td>male</td>\n",
       "      <td>96.0</td>\n",
       "      <td>...</td>\n",
       "      <td>founder</td>\n",
       "      <td>1953.0</td>\n",
       "      <td>NaN</td>\n",
       "      <td>retail</td>\n",
       "      <td>NaN</td>\n",
       "      <td>NaN</td>\n",
       "      <td>http://en.wikipedia.org/wiki/BILLA</td>\n",
       "      <td>http://en.wikipedia.org/wiki/Karl_Wlaschek</td>\n",
       "      <td>https://www.billa.at/Footer_Nav_Seiten/Geschic...</td>\n",
       "      <td>NaN</td>\n",
       "    </tr>\n",
       "    <tr>\n",
       "      <th>343</th>\n",
       "      <td>2014</td>\n",
       "      <td>David Rockefeller, Sr.</td>\n",
       "      <td>580</td>\n",
       "      <td>United States</td>\n",
       "      <td>USA</td>\n",
       "      <td>2.9</td>\n",
       "      <td>inherited</td>\n",
       "      <td>inherited</td>\n",
       "      <td>male</td>\n",
       "      <td>98.0</td>\n",
       "      <td>...</td>\n",
       "      <td>relation</td>\n",
       "      <td>1870.0</td>\n",
       "      <td>NaN</td>\n",
       "      <td>oil, banking</td>\n",
       "      <td>family made most of fortune in the late 19th a...</td>\n",
       "      <td>NaN</td>\n",
       "      <td>http://en.wikipedia.org/wiki/David_Rockefeller</td>\n",
       "      <td>http://en.wikipedia.org/wiki/Standard_Oil</td>\n",
       "      <td>http://en.wikipedia.org/wiki/Rockefeller_family</td>\n",
       "      <td>NaN</td>\n",
       "    </tr>\n",
       "  </tbody>\n",
       "</table>\n",
       "<p>3 rows × 30 columns</p>\n",
       "</div>"
      ],
      "text/plain": [
       "     year                    name  rank    citizenship countrycode  \\\n",
       "836  2014          Kirk Kerkorian   328  United States         USA   \n",
       "816  2014           Karl Wlaschek   305        Austria         AUT   \n",
       "343  2014  David Rockefeller, Sr.   580  United States         USA   \n",
       "\n",
       "     networthusbillion   selfmade         typeofwealth gender   age  ...  \\\n",
       "836                4.5  self-made    self-made finance   male  96.0  ...   \n",
       "816                4.8  self-made  founder non-finance   male  96.0  ...   \n",
       "343                2.9  inherited            inherited   male  98.0  ...   \n",
       "\n",
       "    relationshiptocompany foundingdate gdpcurrentus        sourceofwealth  \\\n",
       "836              investor       1924.0          NaN  casinos, investments   \n",
       "816               founder       1953.0          NaN                retail   \n",
       "343              relation       1870.0          NaN          oil, banking   \n",
       "\n",
       "                                                 notes  notes2  \\\n",
       "836                                  purchased in 1969     NaN   \n",
       "816                                                NaN     NaN   \n",
       "343  family made most of fortune in the late 19th a...     NaN   \n",
       "\n",
       "                                             source  \\\n",
       "836     http://en.wikipedia.org/wiki/Kirk_Kerkorian   \n",
       "816              http://en.wikipedia.org/wiki/BILLA   \n",
       "343  http://en.wikipedia.org/wiki/David_Rockefeller   \n",
       "\n",
       "                                          source_2  \\\n",
       "836  http://www.forbes.com/profile/kirk-kerkorian/   \n",
       "816     http://en.wikipedia.org/wiki/Karl_Wlaschek   \n",
       "343      http://en.wikipedia.org/wiki/Standard_Oil   \n",
       "\n",
       "                                              source_3 source_4  \n",
       "836  PROFILE: Las Vegas billionaire amassed his wea...      NaN  \n",
       "816  https://www.billa.at/Footer_Nav_Seiten/Geschic...      NaN  \n",
       "343    http://en.wikipedia.org/wiki/Rockefeller_family      NaN  \n",
       "\n",
       "[3 rows x 30 columns]"
      ]
     },
     "execution_count": 270,
     "metadata": {},
     "output_type": "execute_result"
    }
   ],
   "source": [
    "oldest = df[df['age'].notna()].sort_values('age').tail(3)\n",
    "oldest"
   ]
  },
  {
   "cell_type": "code",
   "execution_count": 273,
   "metadata": {},
   "outputs": [
    {
     "name": "stdout",
     "output_type": "stream",
     "text": [
      "Here are the three oldest billionaires:\n",
      "Kirk Kerkorian is 96 years old.\n",
      "Karl Wlaschek is 96 years old.\n",
      "David Rockefeller, Sr. is 98 years old.\n"
     ]
    }
   ],
   "source": [
    "print(\"Here are the three oldest billionaires:\")\n",
    "for index, person in oldest.iterrows():\n",
    "    print(f\"{person['name']} is {int(person['age'])} years old.\")"
   ]
  },
  {
   "cell_type": "markdown",
   "metadata": {},
   "source": [
    "## 10b) Make a graph of the distribution of ages.\n",
    "\n",
    "> **TIP:** You use `.plot()` to graph values in a column independently, but `.hist()` to draw a [histogram](https://www.mathsisfun.com/data/histograms.html) of the distribution of their values"
   ]
  },
  {
   "cell_type": "code",
   "execution_count": 284,
   "metadata": {},
   "outputs": [
    {
     "data": {
      "image/png": "[encoded data removed]",
      "text/plain": [
       "<Figure size 640x480 with 1 Axes>"
      ]
     },
     "metadata": {},
     "output_type": "display_data"
    }
   ],
   "source": [
    "df.hist('age')\n",
    "\n",
    "plt.xlabel('Age')\n",
    "plt.ylabel('Count')\n",
    "plt.title('Distribution of Age')\n",
    "\n",
    "plt.show()"
   ]
  },
  {
   "cell_type": "markdown",
   "metadata": {},
   "source": [
    "## 11) Make a scatterplot of net worth compared to age\n",
    "\n",
    "It's more fun to do this in Altair as compared to matplotlib, but either is fine."
   ]
  },
  {
   "cell_type": "code",
   "execution_count": 288,
   "metadata": {},
   "outputs": [
    {
     "data": {
      "text/plain": [
       "Text(0.5, 1.0, \"Billionaires' Net Worth Compared to Age\")"
      ]
     },
     "execution_count": 288,
     "metadata": {},
     "output_type": "execute_result"
    },
    {
     "data": {
      "image/png": "[encoded data removed]",
      "text/plain": [
       "<Figure size 640x480 with 1 Axes>"
      ]
     },
     "metadata": {},
     "output_type": "display_data"
    }
   ],
   "source": [
    "df.plot(x='age', y='networthusbillion', kind='scatter')\n",
    "\n",
    "plt.xlabel('Age')\n",
    "plt.ylabel('Net Worth')\n",
    "plt.title(\"Billionaires' Net Worth Compared to Age\")"
   ]
  },
  {
   "cell_type": "markdown",
   "metadata": {},
   "source": [
    "## 13) Make a bar graph of the wealth of the top 10 richest billionaires\n",
    "\n",
    "> **TIP:** When you make your plot, you'll need to set the `x` and `y` or else your chart will look _crazy_\n",
    ">\n",
    "> **TIP:** x and y might be the opposite of what you expect them to be"
   ]
  },
  {
   "cell_type": "code",
   "execution_count": 319,
   "metadata": {},
   "outputs": [
    {
     "data": {
      "text/html": [
       "<div>\n",
       "<style scoped>\n",
       "    .dataframe tbody tr th:only-of-type {\n",
       "        vertical-align: middle;\n",
       "    }\n",
       "\n",
       "    .dataframe tbody tr th {\n",
       "        vertical-align: top;\n",
       "    }\n",
       "\n",
       "    .dataframe thead th {\n",
       "        text-align: right;\n",
       "    }\n",
       "</style>\n",
       "<table border=\"1\" class=\"dataframe\">\n",
       "  <thead>\n",
       "    <tr style=\"text-align: right;\">\n",
       "      <th></th>\n",
       "      <th>year</th>\n",
       "      <th>name</th>\n",
       "      <th>rank</th>\n",
       "      <th>citizenship</th>\n",
       "      <th>countrycode</th>\n",
       "      <th>networthusbillion</th>\n",
       "      <th>selfmade</th>\n",
       "      <th>typeofwealth</th>\n",
       "      <th>gender</th>\n",
       "      <th>age</th>\n",
       "      <th>...</th>\n",
       "      <th>relationshiptocompany</th>\n",
       "      <th>foundingdate</th>\n",
       "      <th>gdpcurrentus</th>\n",
       "      <th>sourceofwealth</th>\n",
       "      <th>notes</th>\n",
       "      <th>notes2</th>\n",
       "      <th>source</th>\n",
       "      <th>source_2</th>\n",
       "      <th>source_3</th>\n",
       "      <th>source_4</th>\n",
       "    </tr>\n",
       "  </thead>\n",
       "  <tbody>\n",
       "    <tr>\n",
       "      <th>184</th>\n",
       "      <td>2014</td>\n",
       "      <td>Bill Gates</td>\n",
       "      <td>1</td>\n",
       "      <td>United States</td>\n",
       "      <td>USA</td>\n",
       "      <td>76.0</td>\n",
       "      <td>self-made</td>\n",
       "      <td>founder non-finance</td>\n",
       "      <td>male</td>\n",
       "      <td>58.0</td>\n",
       "      <td>...</td>\n",
       "      <td>founder</td>\n",
       "      <td>1975.0</td>\n",
       "      <td>NaN</td>\n",
       "      <td>Microsoft</td>\n",
       "      <td>NaN</td>\n",
       "      <td>NaN</td>\n",
       "      <td>http://www.forbes.com/profile/bill-gates/</td>\n",
       "      <td>NaN</td>\n",
       "      <td>NaN</td>\n",
       "      <td>NaN</td>\n",
       "    </tr>\n",
       "    <tr>\n",
       "      <th>226</th>\n",
       "      <td>2014</td>\n",
       "      <td>Carlos Slim Helu</td>\n",
       "      <td>2</td>\n",
       "      <td>Mexico</td>\n",
       "      <td>MEX</td>\n",
       "      <td>72.0</td>\n",
       "      <td>self-made</td>\n",
       "      <td>privatized and resources</td>\n",
       "      <td>male</td>\n",
       "      <td>74.0</td>\n",
       "      <td>...</td>\n",
       "      <td>founder</td>\n",
       "      <td>1990.0</td>\n",
       "      <td>NaN</td>\n",
       "      <td>telecom</td>\n",
       "      <td>NaN</td>\n",
       "      <td>NaN</td>\n",
       "      <td>http://www.ozy.com/provocateurs/carlos-slims-w...</td>\n",
       "      <td>NaN</td>\n",
       "      <td>NaN</td>\n",
       "      <td>NaN</td>\n",
       "    </tr>\n",
       "    <tr>\n",
       "      <th>79</th>\n",
       "      <td>2014</td>\n",
       "      <td>Amancio Ortega</td>\n",
       "      <td>3</td>\n",
       "      <td>Spain</td>\n",
       "      <td>ESP</td>\n",
       "      <td>64.0</td>\n",
       "      <td>self-made</td>\n",
       "      <td>founder non-finance</td>\n",
       "      <td>male</td>\n",
       "      <td>77.0</td>\n",
       "      <td>...</td>\n",
       "      <td>founder</td>\n",
       "      <td>1975.0</td>\n",
       "      <td>NaN</td>\n",
       "      <td>retail</td>\n",
       "      <td>NaN</td>\n",
       "      <td>NaN</td>\n",
       "      <td>http://www.forbes.com/profile/amancio-ortega/</td>\n",
       "      <td>NaN</td>\n",
       "      <td>NaN</td>\n",
       "      <td>NaN</td>\n",
       "    </tr>\n",
       "    <tr>\n",
       "      <th>1562</th>\n",
       "      <td>2014</td>\n",
       "      <td>Warren Buffett</td>\n",
       "      <td>4</td>\n",
       "      <td>United States</td>\n",
       "      <td>USA</td>\n",
       "      <td>58.2</td>\n",
       "      <td>self-made</td>\n",
       "      <td>founder non-finance</td>\n",
       "      <td>male</td>\n",
       "      <td>83.0</td>\n",
       "      <td>...</td>\n",
       "      <td>founder</td>\n",
       "      <td>1839.0</td>\n",
       "      <td>NaN</td>\n",
       "      <td>Berkshire Hathaway</td>\n",
       "      <td>NaN</td>\n",
       "      <td>NaN</td>\n",
       "      <td>http://www.forbes.com/lists/2009/10/billionair...</td>\n",
       "      <td>http://www.forbes.com/companies/berkshire-hath...</td>\n",
       "      <td>NaN</td>\n",
       "      <td>NaN</td>\n",
       "    </tr>\n",
       "    <tr>\n",
       "      <th>862</th>\n",
       "      <td>2014</td>\n",
       "      <td>Larry Ellison</td>\n",
       "      <td>5</td>\n",
       "      <td>United States</td>\n",
       "      <td>USA</td>\n",
       "      <td>48.0</td>\n",
       "      <td>self-made</td>\n",
       "      <td>founder non-finance</td>\n",
       "      <td>male</td>\n",
       "      <td>69.0</td>\n",
       "      <td>...</td>\n",
       "      <td>founder</td>\n",
       "      <td>1977.0</td>\n",
       "      <td>NaN</td>\n",
       "      <td>Oracle</td>\n",
       "      <td>NaN</td>\n",
       "      <td>NaN</td>\n",
       "      <td>http://www.forbes.com/profile/larry-ellison/</td>\n",
       "      <td>http://www.businessinsider.com/how-larry-ellis...</td>\n",
       "      <td>NaN</td>\n",
       "      <td>NaN</td>\n",
       "    </tr>\n",
       "    <tr>\n",
       "      <th>339</th>\n",
       "      <td>2014</td>\n",
       "      <td>David Koch</td>\n",
       "      <td>6</td>\n",
       "      <td>United States</td>\n",
       "      <td>USA</td>\n",
       "      <td>40.0</td>\n",
       "      <td>inherited</td>\n",
       "      <td>inherited</td>\n",
       "      <td>male</td>\n",
       "      <td>73.0</td>\n",
       "      <td>...</td>\n",
       "      <td>relation</td>\n",
       "      <td>1940.0</td>\n",
       "      <td>NaN</td>\n",
       "      <td>diversified</td>\n",
       "      <td>inherited from father</td>\n",
       "      <td>NaN</td>\n",
       "      <td>http://www.kochind.com/About_Koch/History_Time...</td>\n",
       "      <td>NaN</td>\n",
       "      <td>NaN</td>\n",
       "      <td>NaN</td>\n",
       "    </tr>\n",
       "    <tr>\n",
       "      <th>247</th>\n",
       "      <td>2014</td>\n",
       "      <td>Charles Koch</td>\n",
       "      <td>6</td>\n",
       "      <td>United States</td>\n",
       "      <td>USA</td>\n",
       "      <td>40.0</td>\n",
       "      <td>inherited</td>\n",
       "      <td>inherited</td>\n",
       "      <td>male</td>\n",
       "      <td>78.0</td>\n",
       "      <td>...</td>\n",
       "      <td>relation</td>\n",
       "      <td>1940.0</td>\n",
       "      <td>NaN</td>\n",
       "      <td>diversified</td>\n",
       "      <td>inherited from father</td>\n",
       "      <td>NaN</td>\n",
       "      <td>http://www.kochind.com/About_Koch/History_Time...</td>\n",
       "      <td>NaN</td>\n",
       "      <td>NaN</td>\n",
       "      <td>NaN</td>\n",
       "    </tr>\n",
       "    <tr>\n",
       "      <th>1364</th>\n",
       "      <td>2014</td>\n",
       "      <td>Sheldon Adelson</td>\n",
       "      <td>8</td>\n",
       "      <td>United States</td>\n",
       "      <td>USA</td>\n",
       "      <td>38.0</td>\n",
       "      <td>self-made</td>\n",
       "      <td>self-made finance</td>\n",
       "      <td>male</td>\n",
       "      <td>80.0</td>\n",
       "      <td>...</td>\n",
       "      <td>founder</td>\n",
       "      <td>1952.0</td>\n",
       "      <td>NaN</td>\n",
       "      <td>casinos</td>\n",
       "      <td>NaN</td>\n",
       "      <td>NaN</td>\n",
       "      <td>http://www.forbes.com/profile/sheldon-adelson/</td>\n",
       "      <td>http://lasvegassun.com/news/1996/nov/26/rat-pa...</td>\n",
       "      <td>NaN</td>\n",
       "      <td>NaN</td>\n",
       "    </tr>\n",
       "    <tr>\n",
       "      <th>280</th>\n",
       "      <td>2014</td>\n",
       "      <td>Christy Walton</td>\n",
       "      <td>9</td>\n",
       "      <td>United States</td>\n",
       "      <td>USA</td>\n",
       "      <td>36.7</td>\n",
       "      <td>inherited</td>\n",
       "      <td>inherited</td>\n",
       "      <td>female</td>\n",
       "      <td>59.0</td>\n",
       "      <td>...</td>\n",
       "      <td>relation</td>\n",
       "      <td>1962.0</td>\n",
       "      <td>NaN</td>\n",
       "      <td>Wal-Mart</td>\n",
       "      <td>widow</td>\n",
       "      <td>NaN</td>\n",
       "      <td>http://www.forbes.com/profile/christy-walton/</td>\n",
       "      <td>NaN</td>\n",
       "      <td>NaN</td>\n",
       "      <td>NaN</td>\n",
       "    </tr>\n",
       "    <tr>\n",
       "      <th>724</th>\n",
       "      <td>2014</td>\n",
       "      <td>Jim Walton</td>\n",
       "      <td>10</td>\n",
       "      <td>United States</td>\n",
       "      <td>USA</td>\n",
       "      <td>34.7</td>\n",
       "      <td>inherited</td>\n",
       "      <td>inherited</td>\n",
       "      <td>male</td>\n",
       "      <td>66.0</td>\n",
       "      <td>...</td>\n",
       "      <td>relation</td>\n",
       "      <td>1962.0</td>\n",
       "      <td>NaN</td>\n",
       "      <td>Wal-Mart</td>\n",
       "      <td>inherited from father</td>\n",
       "      <td>NaN</td>\n",
       "      <td>http://www.forbes.com/profile/jim-walton/</td>\n",
       "      <td>NaN</td>\n",
       "      <td>NaN</td>\n",
       "      <td>NaN</td>\n",
       "    </tr>\n",
       "  </tbody>\n",
       "</table>\n",
       "<p>10 rows × 30 columns</p>\n",
       "</div>"
      ],
      "text/plain": [
       "      year              name  rank    citizenship countrycode  \\\n",
       "184   2014        Bill Gates     1  United States         USA   \n",
       "226   2014  Carlos Slim Helu     2         Mexico         MEX   \n",
       "79    2014    Amancio Ortega     3          Spain         ESP   \n",
       "1562  2014    Warren Buffett     4  United States         USA   \n",
       "862   2014     Larry Ellison     5  United States         USA   \n",
       "339   2014        David Koch     6  United States         USA   \n",
       "247   2014      Charles Koch     6  United States         USA   \n",
       "1364  2014   Sheldon Adelson     8  United States         USA   \n",
       "280   2014    Christy Walton     9  United States         USA   \n",
       "724   2014        Jim Walton    10  United States         USA   \n",
       "\n",
       "      networthusbillion   selfmade              typeofwealth  gender   age  \\\n",
       "184                76.0  self-made       founder non-finance    male  58.0   \n",
       "226                72.0  self-made  privatized and resources    male  74.0   \n",
       "79                 64.0  self-made       founder non-finance    male  77.0   \n",
       "1562               58.2  self-made       founder non-finance    male  83.0   \n",
       "862                48.0  self-made       founder non-finance    male  69.0   \n",
       "339                40.0  inherited                 inherited    male  73.0   \n",
       "247                40.0  inherited                 inherited    male  78.0   \n",
       "1364               38.0  self-made         self-made finance    male  80.0   \n",
       "280                36.7  inherited                 inherited  female  59.0   \n",
       "724                34.7  inherited                 inherited    male  66.0   \n",
       "\n",
       "      ... relationshiptocompany foundingdate gdpcurrentus      sourceofwealth  \\\n",
       "184   ...               founder       1975.0          NaN           Microsoft   \n",
       "226   ...               founder       1990.0          NaN             telecom   \n",
       "79    ...               founder       1975.0          NaN              retail   \n",
       "1562  ...               founder       1839.0          NaN  Berkshire Hathaway   \n",
       "862   ...               founder       1977.0          NaN              Oracle   \n",
       "339   ...              relation       1940.0          NaN         diversified   \n",
       "247   ...              relation       1940.0          NaN         diversified   \n",
       "1364  ...               founder       1952.0          NaN             casinos   \n",
       "280   ...              relation       1962.0          NaN            Wal-Mart   \n",
       "724   ...              relation       1962.0          NaN            Wal-Mart   \n",
       "\n",
       "                      notes  notes2  \\\n",
       "184                     NaN     NaN   \n",
       "226                     NaN     NaN   \n",
       "79                      NaN     NaN   \n",
       "1562                    NaN     NaN   \n",
       "862                     NaN     NaN   \n",
       "339   inherited from father     NaN   \n",
       "247   inherited from father     NaN   \n",
       "1364                    NaN     NaN   \n",
       "280                   widow     NaN   \n",
       "724   inherited from father     NaN   \n",
       "\n",
       "                                                 source  \\\n",
       "184           http://www.forbes.com/profile/bill-gates/   \n",
       "226   http://www.ozy.com/provocateurs/carlos-slims-w...   \n",
       "79        http://www.forbes.com/profile/amancio-ortega/   \n",
       "1562  http://www.forbes.com/lists/2009/10/billionair...   \n",
       "862        http://www.forbes.com/profile/larry-ellison/   \n",
       "339   http://www.kochind.com/About_Koch/History_Time...   \n",
       "247   http://www.kochind.com/About_Koch/History_Time...   \n",
       "1364     http://www.forbes.com/profile/sheldon-adelson/   \n",
       "280       http://www.forbes.com/profile/christy-walton/   \n",
       "724           http://www.forbes.com/profile/jim-walton/   \n",
       "\n",
       "                                               source_2 source_3 source_4  \n",
       "184                                                 NaN      NaN      NaN  \n",
       "226                                                 NaN      NaN      NaN  \n",
       "79                                                  NaN      NaN      NaN  \n",
       "1562  http://www.forbes.com/companies/berkshire-hath...      NaN      NaN  \n",
       "862   http://www.businessinsider.com/how-larry-ellis...      NaN      NaN  \n",
       "339                                                 NaN      NaN      NaN  \n",
       "247                                                 NaN      NaN      NaN  \n",
       "1364  http://lasvegassun.com/news/1996/nov/26/rat-pa...      NaN      NaN  \n",
       "280                                                 NaN      NaN      NaN  \n",
       "724                                                 NaN      NaN      NaN  \n",
       "\n",
       "[10 rows x 30 columns]"
      ]
     },
     "execution_count": 319,
     "metadata": {},
     "output_type": "execute_result"
    }
   ],
   "source": [
    "top_10 = df.sort_values('networthusbillion', ascending=False).head(10)\n",
    "top_10"
   ]
  },
  {
   "cell_type": "code",
   "execution_count": 323,
   "metadata": {},
   "outputs": [
    {
     "data": {
      "text/plain": [
       "Text(0.5, 1.0, 'Top 10 Richest Billionaires')"
      ]
     },
     "execution_count": 323,
     "metadata": {},
     "output_type": "execute_result"
    },
    {
     "data": {
      "image/png": "[encoded data removed]",
      "text/plain": [
       "<Figure size 640x480 with 1 Axes>"
      ]
     },
     "metadata": {},
     "output_type": "display_data"
    }
   ],
   "source": [
    "top_10.sort_values('networthusbillion', ascending=True).plot(y='networthusbillion', x='name', kind='barh')\n",
    "\n",
    "plt.xlabel('Net Worth (US Billion)')\n",
    "plt.ylabel('Name')\n",
    "plt.title(\"Top 10 Richest Billionaires\")"
   ]
  },
  {
   "cell_type": "code",
   "execution_count": null,
   "metadata": {},
   "outputs": [],
   "source": []
  }
 ],
 "metadata": {
  "kernelspec": {
   "display_name": "Python 3 (ipykernel)",
   "language": "python",
   "name": "python3"
  },
  "language_info": {
   "codemirror_mode": {
    "name": "ipython",
    "version": 3
   },
   "file_extension": ".py",
   "mimetype": "text/x-python",
   "name": "python",
   "nbconvert_exporter": "python",
   "pygments_lexer": "ipython3",
   "version": "3.10.11"
  }
 },
 "nbformat": 4,
 "nbformat_minor": 2
}
